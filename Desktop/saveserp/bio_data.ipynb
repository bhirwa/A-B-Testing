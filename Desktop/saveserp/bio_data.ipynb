{
 "cells": [
  {
   "cell_type": "code",
   "execution_count": null,
   "id": "9d003005",
   "metadata": {},
   "outputs": [],
   "source": [
    "#importing libraries for the project\n",
    "import pandas as pd\n",
    "import numpy as np\n",
    "import pandas_profiling\n",
    "from tabulate import tabulate"
   ]
  },
  {
   "cell_type": "markdown",
   "id": "0c434cfb",
   "metadata": {},
   "source": [
    "   # Data Loading"
   ]
  },
  {
   "cell_type": "code",
   "execution_count": null,
   "id": "97ccc4bb",
   "metadata": {},
   "outputs": [],
   "source": [
    "# loading data using pandas\n",
    "\n",
    "bio_data = pd.read_csv('file:///home/papineau/Downloads/AdSmartABdata.csv')"
   ]
  },
  {
   "cell_type": "code",
   "execution_count": null,
   "id": "3ae66b0c",
   "metadata": {},
   "outputs": [],
   "source": [
    "bio_data"
   ]
  },
  {
   "cell_type": "markdown",
   "id": "8da30c2d",
   "metadata": {},
   "source": [
    "# BIO Data Exploration"
   ]
  },
  {
   "cell_type": "code",
   "execution_count": null,
   "id": "3ee71322",
   "metadata": {},
   "outputs": [],
   "source": [
    "# getting the information of our dataset\n",
    "bio_data.info() "
   ]
  },
  {
   "cell_type": "code",
   "execution_count": null,
   "id": "f3c1a6da",
   "metadata": {},
   "outputs": [],
   "source": [
    "#check the decoration\n",
    "bio_data.columns"
   ]
  },
  {
   "cell_type": "markdown",
   "id": "27e2e010",
   "metadata": {},
   "source": [
    "Counting unique values of categorical variables"
   ]
  },
  {
   "cell_type": "code",
   "execution_count": null,
   "id": "177ac848",
   "metadata": {},
   "outputs": [],
   "source": [
    "\n",
    "bio_data['auction_id'].nunique()"
   ]
  },
  {
   "cell_type": "code",
   "execution_count": null,
   "id": "ab3504f5",
   "metadata": {},
   "outputs": [],
   "source": [
    "profile = pandas_profiling.ProfileReport(bio_data)\n",
    "profile.to_file('profile_report.html')"
   ]
  },
  {
   "cell_type": "code",
   "execution_count": null,
   "id": "aa4fbff3",
   "metadata": {},
   "outputs": [],
   "source": [
    "profile"
   ]
  },
  {
   "cell_type": "code",
   "execution_count": null,
   "id": "606f132e",
   "metadata": {},
   "outputs": [],
   "source": [
    "\n",
    "date_data = bio_data.groupby(['date']).agg({'date': ['count']})\n",
    "date_data.columns = ['count']\n",
    "date_data = date_data.reset_index()\n",
    "print(tabulate(date_data.head(), headers = 'keys', tablefmt = 'fancy_grid'))"
   ]
  },
  {
   "cell_type": "code",
   "execution_count": null,
   "id": "b10fd2e4",
   "metadata": {},
   "outputs": [],
   "source": []
  },
  {
   "cell_type": "code",
   "execution_count": null,
   "id": "1b4a05d5",
   "metadata": {},
   "outputs": [],
   "source": []
  }
 ],
 "metadata": {
  "kernelspec": {
   "display_name": "Python 3",
   "language": "python",
   "name": "python3"
  },
  "language_info": {
   "codemirror_mode": {
    "name": "ipython",
    "version": 3
   },
   "file_extension": ".py",
   "mimetype": "text/x-python",
   "name": "python",
   "nbconvert_exporter": "python",
   "pygments_lexer": "ipython3",
   "version": "3.8.8"
  }
 },
 "nbformat": 4,
 "nbformat_minor": 5
}
