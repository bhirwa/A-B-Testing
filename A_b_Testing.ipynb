{
  "nbformat": 4,
  "nbformat_minor": 5,
  "metadata": {
    "kernelspec": {
      "display_name": "Python 3",
      "language": "python",
      "name": "python3"
    },
    "language_info": {
      "codemirror_mode": {
        "name": "ipython",
        "version": 3
      },
      "file_extension": ".py",
      "mimetype": "text/x-python",
      "name": "python",
      "nbconvert_exporter": "python",
      "pygments_lexer": "ipython3",
      "version": "3.8.8"
    },
    "colab": {
      "name": "A-b Testing.ipynb",
      "provenance": [],
      "include_colab_link": true
    }
  },
  "cells": [
    {
      "cell_type": "markdown",
      "metadata": {
        "id": "view-in-github",
        "colab_type": "text"
      },
      "source": [
        "<a href=\"https://colab.research.google.com/github/bhirwa/abtest-mlops/blob/main/A_b_Testing.ipynb\" target=\"_parent\"><img src=\"https://colab.research.google.com/assets/colab-badge.svg\" alt=\"Open In Colab\"/></a>"
      ]
    },
    {
      "cell_type": "markdown",
      "metadata": {
        "id": "01392d80"
      },
      "source": [
        "# A/B Testing with Machine Learning"
      ],
      "id": "01392d80"
    },
    {
      "cell_type": "markdown",
      "metadata": {
        "id": "ee9e1676"
      },
      "source": [
        "A/b testing compares the conversion rates of only two groups; Exposed group and the Control group. But in the real world, the situation and even the behaviours of online users is complex and more dynamic. Situations such as:\n",
        "\n",
        "- Online users spend a different amount of time in the Advertisement.\n",
        "- Users take different paths to the Ad.\n",
        "- Users use different devices and Also view the Ad on different dates.\n",
        "\n",
        "With all these complexity, machine learning helps in generating insights from these complex systems."
      ],
      "id": "ee9e1676"
    },
    {
      "cell_type": "code",
      "metadata": {
        "id": "31335710",
        "colab": {
          "base_uri": "https://localhost:8080/",
          "height": 124
        },
        "outputId": "b69c8d37-8a3e-4fc8-e807-1df5ffca16c5"
      },
      "source": [
        "#importing libraries for the project\n",
        "import pandas as pd\n",
        "'''import sklearn.utils\n",
        "from matplotlib import pyplot\n",
        "import numpy as np\n",
        "from sklearn.tree import DecisionTreeRegressor\n",
        "from matplotlib import pyplot\n",
        "from sklearn.datasets import make_regression\n",
        "from sklearn.preprocessing import StandardScaler\n",
        "from keras.models import Sequential\n",
        "from keras.layers import Dense\n",
        "from keras.optimizers import SGD\n",
        "from sklearn.model_selection import train_test_split\n",
        "from sklearn.model_selection import KFold\n",
        "from sklearn.model_selection import cross_val_score\n",
        "from sklearn.preprocessing import MinMaxScaler\n",
        "from sklearn.preprocessing import LabelEncoder\n",
        "from sklearn.tree import DecisionTreeClassifier\n",
        "import xgboost\n",
        "from xgboost import XGBClassifier\n",
        "from sklearn.linear_model import LogisticRegression\n",
        "from sklearn import tree\n",
        "from sklearn.metrics import accuracy_score\n",
        "from sklearn.svm import SVR\n",
        "import seaborn as sns\n",
        "import matplotlib.pyplot as plt'''\n"
      ],
      "id": "31335710",
      "execution_count": null,
      "outputs": [
        {
          "output_type": "execute_result",
          "data": {
            "application/vnd.google.colaboratory.intrinsic+json": {
              "type": "string"
            },
            "text/plain": [
              "'import sklearn.utils\\nfrom matplotlib import pyplot\\nimport numpy as np\\nfrom sklearn.tree import DecisionTreeRegressor\\nfrom matplotlib import pyplot\\nfrom sklearn.datasets import make_regression\\nfrom sklearn.preprocessing import StandardScaler\\nfrom keras.models import Sequential\\nfrom keras.layers import Dense\\nfrom keras.optimizers import SGD\\nfrom sklearn.model_selection import train_test_split\\nfrom sklearn.model_selection import KFold\\nfrom sklearn.model_selection import cross_val_score\\nfrom sklearn.preprocessing import MinMaxScaler\\nfrom sklearn.preprocessing import LabelEncoder\\nfrom sklearn.tree import DecisionTreeClassifier\\nimport xgboost\\nfrom xgboost import XGBClassifier\\nfrom sklearn.linear_model import LogisticRegression\\nfrom sklearn import tree\\nfrom sklearn.metrics import accuracy_score\\nfrom sklearn.svm import SVR\\nimport seaborn as sns\\nimport matplotlib.pyplot as plt'"
            ]
          },
          "metadata": {
            "tags": []
          },
          "execution_count": 27
        }
      ]
    },
    {
      "cell_type": "code",
      "metadata": {
        "colab": {
          "base_uri": "https://localhost:8080/"
        },
        "id": "oKE1yxVR9XG6",
        "outputId": "3fab1473-e729-4c39-ec84-5e703d71daa3"
      },
      "source": [
        "from google.colab import drive\n",
        "drive.mount('/content/drive')"
      ],
      "id": "oKE1yxVR9XG6",
      "execution_count": null,
      "outputs": [
        {
          "output_type": "stream",
          "text": [
            "Drive already mounted at /content/drive; to attempt to forcibly remount, call drive.mount(\"/content/drive\", force_remount=True).\n"
          ],
          "name": "stdout"
        }
      ]
    },
    {
      "cell_type": "code",
      "metadata": {
        "id": "mdaJWRFAEWPF"
      },
      "source": [
        "import os\n",
        "path = \"/content\" # /content is pretty much the root. you can choose other path in your colab workspace\n",
        "os.chdir(path)"
      ],
      "id": "mdaJWRFAEWPF",
      "execution_count": null,
      "outputs": []
    },
    {
      "cell_type": "code",
      "metadata": {
        "colab": {
          "base_uri": "https://localhost:8080/"
        },
        "id": "i5YrjrGuC5gk",
        "outputId": "1434ebcb-88a7-4536-9c69-4650dd66393c"
      },
      "source": [
        "!ls drive\n"
      ],
      "id": "i5YrjrGuC5gk",
      "execution_count": null,
      "outputs": [
        {
          "output_type": "stream",
          "text": [
            "MyDrive\n"
          ],
          "name": "stdout"
        }
      ]
    },
    {
      "cell_type": "code",
      "metadata": {
        "colab": {
          "base_uri": "https://localhost:8080/"
        },
        "id": "Ev3nGaQ49PP7",
        "outputId": "bb4624b3-d373-499d-f2a2-ea2608557820"
      },
      "source": [
        "cd drive/MyDrive"
      ],
      "id": "Ev3nGaQ49PP7",
      "execution_count": null,
      "outputs": [
        {
          "output_type": "stream",
          "text": [
            "/content/drive/MyDrive\n"
          ],
          "name": "stdout"
        }
      ]
    },
    {
      "cell_type": "code",
      "metadata": {
        "id": "3c0921bc"
      },
      "source": [
        "# loading data using pandas\n",
        "exposed_data=pd.read_csv('/content/drive/MyDrive/Exposed_group_data.csv')\n",
        "control_data=pd.read_csv('/content/drive/MyDrive/control_group_data.csv')"
      ],
      "id": "3c0921bc",
      "execution_count": null,
      "outputs": []
    },
    {
      "cell_type": "code",
      "metadata": {
        "colab": {
          "base_uri": "https://localhost:8080/",
          "height": 203
        },
        "id": "F6TRMc8SGWbg",
        "outputId": "df5249e0-9de3-4c05-d5af-8e5240fcdfc8"
      },
      "source": [
        "\n",
        "exposed_data.head()"
      ],
      "id": "F6TRMc8SGWbg",
      "execution_count": null,
      "outputs": [
        {
          "output_type": "execute_result",
          "data": {
            "text/html": [
              "<div>\n",
              "<style scoped>\n",
              "    .dataframe tbody tr th:only-of-type {\n",
              "        vertical-align: middle;\n",
              "    }\n",
              "\n",
              "    .dataframe tbody tr th {\n",
              "        vertical-align: top;\n",
              "    }\n",
              "\n",
              "    .dataframe thead th {\n",
              "        text-align: right;\n",
              "    }\n",
              "</style>\n",
              "<table border=\"1\" class=\"dataframe\">\n",
              "  <thead>\n",
              "    <tr style=\"text-align: right;\">\n",
              "      <th></th>\n",
              "      <th>auction_id</th>\n",
              "      <th>experiment</th>\n",
              "      <th>date</th>\n",
              "      <th>hour</th>\n",
              "      <th>device_make</th>\n",
              "      <th>platform_os</th>\n",
              "      <th>browser</th>\n",
              "      <th>yes</th>\n",
              "      <th>no</th>\n",
              "    </tr>\n",
              "  </thead>\n",
              "  <tbody>\n",
              "    <tr>\n",
              "      <th>0</th>\n",
              "      <td>0008ef63-77a7-448b-bd1e-075f42c55e39</td>\n",
              "      <td>exposed</td>\n",
              "      <td>2020-07-10</td>\n",
              "      <td>8</td>\n",
              "      <td>Generic Smartphone</td>\n",
              "      <td>6</td>\n",
              "      <td>Chrome Mobile</td>\n",
              "      <td>0</td>\n",
              "      <td>0</td>\n",
              "    </tr>\n",
              "    <tr>\n",
              "      <th>1</th>\n",
              "      <td>000eabc5-17ce-4137-8efe-44734d914446</td>\n",
              "      <td>exposed</td>\n",
              "      <td>2020-07-07</td>\n",
              "      <td>10</td>\n",
              "      <td>Generic Smartphone</td>\n",
              "      <td>6</td>\n",
              "      <td>Chrome Mobile</td>\n",
              "      <td>0</td>\n",
              "      <td>0</td>\n",
              "    </tr>\n",
              "    <tr>\n",
              "      <th>2</th>\n",
              "      <td>0016d14a-ae18-4a02-a204-6ba53b52f2ed</td>\n",
              "      <td>exposed</td>\n",
              "      <td>2020-07-05</td>\n",
              "      <td>2</td>\n",
              "      <td>E5823</td>\n",
              "      <td>6</td>\n",
              "      <td>Chrome Mobile WebView</td>\n",
              "      <td>0</td>\n",
              "      <td>1</td>\n",
              "    </tr>\n",
              "    <tr>\n",
              "      <th>3</th>\n",
              "      <td>004940f5-c642-417a-8fd2-c8e5d989f358</td>\n",
              "      <td>exposed</td>\n",
              "      <td>2020-07-04</td>\n",
              "      <td>0</td>\n",
              "      <td>Generic Smartphone</td>\n",
              "      <td>6</td>\n",
              "      <td>Chrome Mobile WebView</td>\n",
              "      <td>0</td>\n",
              "      <td>0</td>\n",
              "    </tr>\n",
              "    <tr>\n",
              "      <th>4</th>\n",
              "      <td>006b9c6e-5f5d-4385-a811-ff20a24b30ac</td>\n",
              "      <td>exposed</td>\n",
              "      <td>2020-07-06</td>\n",
              "      <td>8</td>\n",
              "      <td>Samsung SM-G973F</td>\n",
              "      <td>6</td>\n",
              "      <td>Chrome Mobile WebView</td>\n",
              "      <td>0</td>\n",
              "      <td>0</td>\n",
              "    </tr>\n",
              "  </tbody>\n",
              "</table>\n",
              "</div>"
            ],
            "text/plain": [
              "                             auction_id experiment  ... yes  no\n",
              "0  0008ef63-77a7-448b-bd1e-075f42c55e39    exposed  ...   0   0\n",
              "1  000eabc5-17ce-4137-8efe-44734d914446    exposed  ...   0   0\n",
              "2  0016d14a-ae18-4a02-a204-6ba53b52f2ed    exposed  ...   0   1\n",
              "3  004940f5-c642-417a-8fd2-c8e5d989f358    exposed  ...   0   0\n",
              "4  006b9c6e-5f5d-4385-a811-ff20a24b30ac    exposed  ...   0   0\n",
              "\n",
              "[5 rows x 9 columns]"
            ]
          },
          "metadata": {
            "tags": []
          },
          "execution_count": 33
        }
      ]
    },
    {
      "cell_type": "code",
      "metadata": {
        "id": "AEo09gcEGa-p"
      },
      "source": [
        "exp_data=(exposed_data.groupby('date')\n",
        "      .agg(pageviews=('yes','count'),yes=('yes','sum'),no=('no','sum'),hours=('hour','sum'))\n",
        "      .reset_index()\n",
        "       )"
      ],
      "id": "AEo09gcEGa-p",
      "execution_count": null,
      "outputs": []
    },
    {
      "cell_type": "code",
      "metadata": {
        "colab": {
          "base_uri": "https://localhost:8080/",
          "height": 295
        },
        "id": "HvBH0Dq5LG7v",
        "outputId": "b4f9b381-581f-4ad6-9bd4-a1faaeb3eb80"
      },
      "source": [
        "exp_data\n"
      ],
      "id": "HvBH0Dq5LG7v",
      "execution_count": null,
      "outputs": [
        {
          "output_type": "execute_result",
          "data": {
            "text/html": [
              "<div>\n",
              "<style scoped>\n",
              "    .dataframe tbody tr th:only-of-type {\n",
              "        vertical-align: middle;\n",
              "    }\n",
              "\n",
              "    .dataframe tbody tr th {\n",
              "        vertical-align: top;\n",
              "    }\n",
              "\n",
              "    .dataframe thead th {\n",
              "        text-align: right;\n",
              "    }\n",
              "</style>\n",
              "<table border=\"1\" class=\"dataframe\">\n",
              "  <thead>\n",
              "    <tr style=\"text-align: right;\">\n",
              "      <th></th>\n",
              "      <th>date</th>\n",
              "      <th>pageviews</th>\n",
              "      <th>yes</th>\n",
              "      <th>no</th>\n",
              "      <th>hours</th>\n",
              "    </tr>\n",
              "  </thead>\n",
              "  <tbody>\n",
              "    <tr>\n",
              "      <th>0</th>\n",
              "      <td>2020-07-03</td>\n",
              "      <td>470</td>\n",
              "      <td>43</td>\n",
              "      <td>49</td>\n",
              "      <td>3986</td>\n",
              "    </tr>\n",
              "    <tr>\n",
              "      <th>1</th>\n",
              "      <td>2020-07-04</td>\n",
              "      <td>477</td>\n",
              "      <td>46</td>\n",
              "      <td>45</td>\n",
              "      <td>5114</td>\n",
              "    </tr>\n",
              "    <tr>\n",
              "      <th>2</th>\n",
              "      <td>2020-07-05</td>\n",
              "      <td>528</td>\n",
              "      <td>35</td>\n",
              "      <td>39</td>\n",
              "      <td>5506</td>\n",
              "    </tr>\n",
              "    <tr>\n",
              "      <th>3</th>\n",
              "      <td>2020-07-06</td>\n",
              "      <td>294</td>\n",
              "      <td>23</td>\n",
              "      <td>25</td>\n",
              "      <td>1717</td>\n",
              "    </tr>\n",
              "    <tr>\n",
              "      <th>4</th>\n",
              "      <td>2020-07-07</td>\n",
              "      <td>257</td>\n",
              "      <td>22</td>\n",
              "      <td>24</td>\n",
              "      <td>2767</td>\n",
              "    </tr>\n",
              "    <tr>\n",
              "      <th>5</th>\n",
              "      <td>2020-07-08</td>\n",
              "      <td>714</td>\n",
              "      <td>58</td>\n",
              "      <td>61</td>\n",
              "      <td>10899</td>\n",
              "    </tr>\n",
              "    <tr>\n",
              "      <th>6</th>\n",
              "      <td>2020-07-09</td>\n",
              "      <td>728</td>\n",
              "      <td>55</td>\n",
              "      <td>64</td>\n",
              "      <td>8177</td>\n",
              "    </tr>\n",
              "    <tr>\n",
              "      <th>7</th>\n",
              "      <td>2020-07-10</td>\n",
              "      <td>538</td>\n",
              "      <td>26</td>\n",
              "      <td>42</td>\n",
              "      <td>4765</td>\n",
              "    </tr>\n",
              "  </tbody>\n",
              "</table>\n",
              "</div>"
            ],
            "text/plain": [
              "         date  pageviews  yes  no  hours\n",
              "0  2020-07-03        470   43  49   3986\n",
              "1  2020-07-04        477   46  45   5114\n",
              "2  2020-07-05        528   35  39   5506\n",
              "3  2020-07-06        294   23  25   1717\n",
              "4  2020-07-07        257   22  24   2767\n",
              "5  2020-07-08        714   58  61  10899\n",
              "6  2020-07-09        728   55  64   8177\n",
              "7  2020-07-10        538   26  42   4765"
            ]
          },
          "metadata": {
            "tags": []
          },
          "execution_count": 35
        }
      ]
    },
    {
      "cell_type": "code",
      "metadata": {
        "colab": {
          "base_uri": "https://localhost:8080/",
          "height": 203
        },
        "id": "OvmWss81LJe1",
        "outputId": "b2988452-6c81-4b73-c313-81a0b157fbac"
      },
      "source": [
        "control_data.head()"
      ],
      "id": "OvmWss81LJe1",
      "execution_count": null,
      "outputs": [
        {
          "output_type": "execute_result",
          "data": {
            "text/html": [
              "<div>\n",
              "<style scoped>\n",
              "    .dataframe tbody tr th:only-of-type {\n",
              "        vertical-align: middle;\n",
              "    }\n",
              "\n",
              "    .dataframe tbody tr th {\n",
              "        vertical-align: top;\n",
              "    }\n",
              "\n",
              "    .dataframe thead th {\n",
              "        text-align: right;\n",
              "    }\n",
              "</style>\n",
              "<table border=\"1\" class=\"dataframe\">\n",
              "  <thead>\n",
              "    <tr style=\"text-align: right;\">\n",
              "      <th></th>\n",
              "      <th>auction_id</th>\n",
              "      <th>experiment</th>\n",
              "      <th>date</th>\n",
              "      <th>hour</th>\n",
              "      <th>device_make</th>\n",
              "      <th>platform_os</th>\n",
              "      <th>browser</th>\n",
              "      <th>yes</th>\n",
              "      <th>no</th>\n",
              "    </tr>\n",
              "  </thead>\n",
              "  <tbody>\n",
              "    <tr>\n",
              "      <th>0</th>\n",
              "      <td>00187412-2932-4542-a8ef-3633901c98d9</td>\n",
              "      <td>control</td>\n",
              "      <td>2020-07-03</td>\n",
              "      <td>15</td>\n",
              "      <td>Samsung SM-A705FN</td>\n",
              "      <td>6</td>\n",
              "      <td>Facebook</td>\n",
              "      <td>0</td>\n",
              "      <td>0</td>\n",
              "    </tr>\n",
              "    <tr>\n",
              "      <th>1</th>\n",
              "      <td>001a7785-d3fe-4e11-a344-c8735acacc2c</td>\n",
              "      <td>control</td>\n",
              "      <td>2020-07-03</td>\n",
              "      <td>15</td>\n",
              "      <td>Generic Smartphone</td>\n",
              "      <td>6</td>\n",
              "      <td>Chrome Mobile</td>\n",
              "      <td>0</td>\n",
              "      <td>0</td>\n",
              "    </tr>\n",
              "    <tr>\n",
              "      <th>2</th>\n",
              "      <td>0027ce48-d3c6-4935-bb12-dfb5d5627857</td>\n",
              "      <td>control</td>\n",
              "      <td>2020-07-03</td>\n",
              "      <td>15</td>\n",
              "      <td>Samsung SM-G960F</td>\n",
              "      <td>6</td>\n",
              "      <td>Facebook</td>\n",
              "      <td>0</td>\n",
              "      <td>0</td>\n",
              "    </tr>\n",
              "    <tr>\n",
              "      <th>3</th>\n",
              "      <td>002e308b-1a07-49d6-8560-0fbcdcd71e4b</td>\n",
              "      <td>control</td>\n",
              "      <td>2020-07-03</td>\n",
              "      <td>15</td>\n",
              "      <td>Generic Smartphone</td>\n",
              "      <td>6</td>\n",
              "      <td>Chrome Mobile</td>\n",
              "      <td>0</td>\n",
              "      <td>0</td>\n",
              "    </tr>\n",
              "    <tr>\n",
              "      <th>4</th>\n",
              "      <td>00393fb9-ca32-40c0-bfcb-1bd83f319820</td>\n",
              "      <td>control</td>\n",
              "      <td>2020-07-09</td>\n",
              "      <td>5</td>\n",
              "      <td>Samsung SM-G973F</td>\n",
              "      <td>6</td>\n",
              "      <td>Facebook</td>\n",
              "      <td>0</td>\n",
              "      <td>0</td>\n",
              "    </tr>\n",
              "  </tbody>\n",
              "</table>\n",
              "</div>"
            ],
            "text/plain": [
              "                             auction_id experiment  ... yes  no\n",
              "0  00187412-2932-4542-a8ef-3633901c98d9    control  ...   0   0\n",
              "1  001a7785-d3fe-4e11-a344-c8735acacc2c    control  ...   0   0\n",
              "2  0027ce48-d3c6-4935-bb12-dfb5d5627857    control  ...   0   0\n",
              "3  002e308b-1a07-49d6-8560-0fbcdcd71e4b    control  ...   0   0\n",
              "4  00393fb9-ca32-40c0-bfcb-1bd83f319820    control  ...   0   0\n",
              "\n",
              "[5 rows x 9 columns]"
            ]
          },
          "metadata": {
            "tags": []
          },
          "execution_count": 36
        }
      ]
    },
    {
      "cell_type": "code",
      "metadata": {
        "id": "tTLm12IUMP0I"
      },
      "source": [
        "cont_data=(control_data.groupby('date')\n",
        "      .agg(pageviews=('yes','count'),yes=('yes','sum'),no=('no','sum'),hours=('hour','sum'))\n",
        "      .reset_index()\n",
        "       )"
      ],
      "id": "tTLm12IUMP0I",
      "execution_count": null,
      "outputs": []
    },
    {
      "cell_type": "code",
      "metadata": {
        "colab": {
          "base_uri": "https://localhost:8080/",
          "height": 295
        },
        "id": "hVXv-bn-MZa3",
        "outputId": "5bb5ec3c-25d7-4724-d46f-b55e54339159"
      },
      "source": [
        "cont_data"
      ],
      "id": "hVXv-bn-MZa3",
      "execution_count": null,
      "outputs": [
        {
          "output_type": "execute_result",
          "data": {
            "text/html": [
              "<div>\n",
              "<style scoped>\n",
              "    .dataframe tbody tr th:only-of-type {\n",
              "        vertical-align: middle;\n",
              "    }\n",
              "\n",
              "    .dataframe tbody tr th {\n",
              "        vertical-align: top;\n",
              "    }\n",
              "\n",
              "    .dataframe thead th {\n",
              "        text-align: right;\n",
              "    }\n",
              "</style>\n",
              "<table border=\"1\" class=\"dataframe\">\n",
              "  <thead>\n",
              "    <tr style=\"text-align: right;\">\n",
              "      <th></th>\n",
              "      <th>date</th>\n",
              "      <th>pageviews</th>\n",
              "      <th>yes</th>\n",
              "      <th>no</th>\n",
              "      <th>hours</th>\n",
              "    </tr>\n",
              "  </thead>\n",
              "  <tbody>\n",
              "    <tr>\n",
              "      <th>0</th>\n",
              "      <td>2020-07-03</td>\n",
              "      <td>1545</td>\n",
              "      <td>104</td>\n",
              "      <td>129</td>\n",
              "      <td>23177</td>\n",
              "    </tr>\n",
              "    <tr>\n",
              "      <th>1</th>\n",
              "      <td>2020-07-04</td>\n",
              "      <td>426</td>\n",
              "      <td>30</td>\n",
              "      <td>38</td>\n",
              "      <td>4164</td>\n",
              "    </tr>\n",
              "    <tr>\n",
              "      <th>2</th>\n",
              "      <td>2020-07-05</td>\n",
              "      <td>362</td>\n",
              "      <td>17</td>\n",
              "      <td>26</td>\n",
              "      <td>3949</td>\n",
              "    </tr>\n",
              "    <tr>\n",
              "      <th>3</th>\n",
              "      <td>2020-07-06</td>\n",
              "      <td>196</td>\n",
              "      <td>12</td>\n",
              "      <td>14</td>\n",
              "      <td>1104</td>\n",
              "    </tr>\n",
              "    <tr>\n",
              "      <th>4</th>\n",
              "      <td>2020-07-07</td>\n",
              "      <td>223</td>\n",
              "      <td>16</td>\n",
              "      <td>21</td>\n",
              "      <td>2312</td>\n",
              "    </tr>\n",
              "    <tr>\n",
              "      <th>5</th>\n",
              "      <td>2020-07-08</td>\n",
              "      <td>484</td>\n",
              "      <td>27</td>\n",
              "      <td>31</td>\n",
              "      <td>7489</td>\n",
              "    </tr>\n",
              "    <tr>\n",
              "      <th>6</th>\n",
              "      <td>2020-07-09</td>\n",
              "      <td>480</td>\n",
              "      <td>30</td>\n",
              "      <td>35</td>\n",
              "      <td>5552</td>\n",
              "    </tr>\n",
              "    <tr>\n",
              "      <th>7</th>\n",
              "      <td>2020-07-10</td>\n",
              "      <td>355</td>\n",
              "      <td>28</td>\n",
              "      <td>28</td>\n",
              "      <td>3137</td>\n",
              "    </tr>\n",
              "  </tbody>\n",
              "</table>\n",
              "</div>"
            ],
            "text/plain": [
              "         date  pageviews  yes   no  hours\n",
              "0  2020-07-03       1545  104  129  23177\n",
              "1  2020-07-04        426   30   38   4164\n",
              "2  2020-07-05        362   17   26   3949\n",
              "3  2020-07-06        196   12   14   1104\n",
              "4  2020-07-07        223   16   21   2312\n",
              "5  2020-07-08        484   27   31   7489\n",
              "6  2020-07-09        480   30   35   5552\n",
              "7  2020-07-10        355   28   28   3137"
            ]
          },
          "metadata": {
            "tags": []
          },
          "execution_count": 38
        }
      ]
    },
    {
      "cell_type": "markdown",
      "metadata": {
        "id": "j7Wkd9OsP0H_"
      },
      "source": [
        "\n",
        "**Number summaries and basic investigations**"
      ],
      "id": "j7Wkd9OsP0H_"
    },
    {
      "cell_type": "code",
      "metadata": {
        "colab": {
          "base_uri": "https://localhost:8080/"
        },
        "id": "8Ed43euPMbf3",
        "outputId": "6c28f060-1e03-4e20-9c23-3db39ae9640f"
      },
      "source": [
        "exposed_data.info()"
      ],
      "id": "8Ed43euPMbf3",
      "execution_count": null,
      "outputs": [
        {
          "output_type": "stream",
          "text": [
            "<class 'pandas.core.frame.DataFrame'>\n",
            "RangeIndex: 4006 entries, 0 to 4005\n",
            "Data columns (total 9 columns):\n",
            " #   Column       Non-Null Count  Dtype \n",
            "---  ------       --------------  ----- \n",
            " 0   auction_id   4006 non-null   object\n",
            " 1   experiment   4006 non-null   object\n",
            " 2   date         4006 non-null   object\n",
            " 3   hour         4006 non-null   int64 \n",
            " 4   device_make  4006 non-null   object\n",
            " 5   platform_os  4006 non-null   int64 \n",
            " 6   browser      4006 non-null   object\n",
            " 7   yes          4006 non-null   int64 \n",
            " 8   no           4006 non-null   int64 \n",
            "dtypes: int64(4), object(5)\n",
            "memory usage: 281.8+ KB\n"
          ],
          "name": "stdout"
        }
      ]
    },
    {
      "cell_type": "code",
      "metadata": {
        "colab": {
          "base_uri": "https://localhost:8080/"
        },
        "id": "9JLVohd9Qd7h",
        "outputId": "7ef599df-ebd1-4cd3-aff0-2d33d5f5e2f6"
      },
      "source": [
        "control_data.info()"
      ],
      "id": "9JLVohd9Qd7h",
      "execution_count": null,
      "outputs": [
        {
          "output_type": "stream",
          "text": [
            "<class 'pandas.core.frame.DataFrame'>\n",
            "RangeIndex: 4071 entries, 0 to 4070\n",
            "Data columns (total 9 columns):\n",
            " #   Column       Non-Null Count  Dtype \n",
            "---  ------       --------------  ----- \n",
            " 0   auction_id   4071 non-null   object\n",
            " 1   experiment   4071 non-null   object\n",
            " 2   date         4071 non-null   object\n",
            " 3   hour         4071 non-null   int64 \n",
            " 4   device_make  4071 non-null   object\n",
            " 5   platform_os  4071 non-null   int64 \n",
            " 6   browser      4071 non-null   object\n",
            " 7   yes          4071 non-null   int64 \n",
            " 8   no           4071 non-null   int64 \n",
            "dtypes: int64(4), object(5)\n",
            "memory usage: 286.4+ KB\n"
          ],
          "name": "stdout"
        }
      ]
    },
    {
      "cell_type": "code",
      "metadata": {
        "colab": {
          "base_uri": "https://localhost:8080/"
        },
        "id": "0qQKBaWJQ0EX",
        "outputId": "cd4a1c5a-8998-4438-99b6-81ba3edc2749"
      },
      "source": [
        "exposed_data.isna().sum()"
      ],
      "id": "0qQKBaWJQ0EX",
      "execution_count": null,
      "outputs": [
        {
          "output_type": "execute_result",
          "data": {
            "text/plain": [
              "auction_id     0\n",
              "experiment     0\n",
              "date           0\n",
              "hour           0\n",
              "device_make    0\n",
              "platform_os    0\n",
              "browser        0\n",
              "yes            0\n",
              "no             0\n",
              "dtype: int64"
            ]
          },
          "metadata": {
            "tags": []
          },
          "execution_count": 41
        }
      ]
    },
    {
      "cell_type": "code",
      "metadata": {
        "id": "GHC3LjJFQ-qP"
      },
      "source": [
        ""
      ],
      "id": "GHC3LjJFQ-qP",
      "execution_count": null,
      "outputs": []
    },
    {
      "cell_type": "code",
      "metadata": {
        "colab": {
          "base_uri": "https://localhost:8080/"
        },
        "id": "SdJcTbyFQ3pW",
        "outputId": "b087d341-ff3d-4348-a9f3-7f4e85b28747"
      },
      "source": [
        "control_data.isna().sum()"
      ],
      "id": "SdJcTbyFQ3pW",
      "execution_count": null,
      "outputs": [
        {
          "output_type": "execute_result",
          "data": {
            "text/plain": [
              "auction_id     0\n",
              "experiment     0\n",
              "date           0\n",
              "hour           0\n",
              "device_make    0\n",
              "platform_os    0\n",
              "browser        0\n",
              "yes            0\n",
              "no             0\n",
              "dtype: int64"
            ]
          },
          "metadata": {
            "tags": []
          },
          "execution_count": 42
        }
      ]
    },
    {
      "cell_type": "markdown",
      "metadata": {
        "id": "2Db-k5_7RJyt"
      },
      "source": [
        "**Data wrangling**"
      ],
      "id": "2Db-k5_7RJyt"
    },
    {
      "cell_type": "code",
      "metadata": {
        "colab": {
          "base_uri": "https://localhost:8080/",
          "height": 357
        },
        "id": "XqyZ1lwl2FcJ",
        "outputId": "3991f01d-ddaf-4794-8e86-878bf8807f37"
      },
      "source": [
        "data_total1 = pd.concat([control_data, exposed_data])\n",
        "data_total1.sample(10)\n"
      ],
      "id": "XqyZ1lwl2FcJ",
      "execution_count": null,
      "outputs": [
        {
          "output_type": "execute_result",
          "data": {
            "text/html": [
              "<div>\n",
              "<style scoped>\n",
              "    .dataframe tbody tr th:only-of-type {\n",
              "        vertical-align: middle;\n",
              "    }\n",
              "\n",
              "    .dataframe tbody tr th {\n",
              "        vertical-align: top;\n",
              "    }\n",
              "\n",
              "    .dataframe thead th {\n",
              "        text-align: right;\n",
              "    }\n",
              "</style>\n",
              "<table border=\"1\" class=\"dataframe\">\n",
              "  <thead>\n",
              "    <tr style=\"text-align: right;\">\n",
              "      <th></th>\n",
              "      <th>auction_id</th>\n",
              "      <th>experiment</th>\n",
              "      <th>date</th>\n",
              "      <th>hour</th>\n",
              "      <th>device_make</th>\n",
              "      <th>platform_os</th>\n",
              "      <th>browser</th>\n",
              "      <th>yes</th>\n",
              "      <th>no</th>\n",
              "    </tr>\n",
              "  </thead>\n",
              "  <tbody>\n",
              "    <tr>\n",
              "      <th>3753</th>\n",
              "      <td>efdd9369-09d1-496c-8fb1-061bb366c34a</td>\n",
              "      <td>exposed</td>\n",
              "      <td>2020-07-09</td>\n",
              "      <td>3</td>\n",
              "      <td>MAR-LX1A</td>\n",
              "      <td>6</td>\n",
              "      <td>Chrome Mobile WebView</td>\n",
              "      <td>0</td>\n",
              "      <td>0</td>\n",
              "    </tr>\n",
              "    <tr>\n",
              "      <th>335</th>\n",
              "      <td>13e225de-5cb9-4d9b-96fb-aa137c643ce3</td>\n",
              "      <td>control</td>\n",
              "      <td>2020-07-03</td>\n",
              "      <td>15</td>\n",
              "      <td>Samsung SM-G930F</td>\n",
              "      <td>6</td>\n",
              "      <td>Facebook</td>\n",
              "      <td>1</td>\n",
              "      <td>0</td>\n",
              "    </tr>\n",
              "    <tr>\n",
              "      <th>1869</th>\n",
              "      <td>7643d4e5-e32b-4eb1-813e-ea8d35dcaa9d</td>\n",
              "      <td>control</td>\n",
              "      <td>2020-07-10</td>\n",
              "      <td>16</td>\n",
              "      <td>Samsung SM-A405FN</td>\n",
              "      <td>6</td>\n",
              "      <td>Samsung Internet</td>\n",
              "      <td>0</td>\n",
              "      <td>0</td>\n",
              "    </tr>\n",
              "    <tr>\n",
              "      <th>2857</th>\n",
              "      <td>b32ca27f-d327-469d-999e-bd85a589f224</td>\n",
              "      <td>control</td>\n",
              "      <td>2020-07-03</td>\n",
              "      <td>15</td>\n",
              "      <td>Samsung SM-G965F</td>\n",
              "      <td>6</td>\n",
              "      <td>Facebook</td>\n",
              "      <td>0</td>\n",
              "      <td>1</td>\n",
              "    </tr>\n",
              "    <tr>\n",
              "      <th>1432</th>\n",
              "      <td>5aa77053-9c2e-4791-a096-5d1d831c4f6d</td>\n",
              "      <td>control</td>\n",
              "      <td>2020-07-04</td>\n",
              "      <td>10</td>\n",
              "      <td>LG-$2</td>\n",
              "      <td>6</td>\n",
              "      <td>Chrome Mobile</td>\n",
              "      <td>0</td>\n",
              "      <td>0</td>\n",
              "    </tr>\n",
              "    <tr>\n",
              "      <th>3619</th>\n",
              "      <td>e4b7b761-2b30-4b94-9d51-49643378d593</td>\n",
              "      <td>control</td>\n",
              "      <td>2020-07-03</td>\n",
              "      <td>15</td>\n",
              "      <td>Generic Smartphone</td>\n",
              "      <td>6</td>\n",
              "      <td>Chrome Mobile</td>\n",
              "      <td>0</td>\n",
              "      <td>0</td>\n",
              "    </tr>\n",
              "    <tr>\n",
              "      <th>2139</th>\n",
              "      <td>8a89116b-a35f-40d0-b9c2-8fd9351df037</td>\n",
              "      <td>exposed</td>\n",
              "      <td>2020-07-04</td>\n",
              "      <td>0</td>\n",
              "      <td>Samsung SM-G920F</td>\n",
              "      <td>6</td>\n",
              "      <td>Chrome Mobile WebView</td>\n",
              "      <td>0</td>\n",
              "      <td>0</td>\n",
              "    </tr>\n",
              "    <tr>\n",
              "      <th>1191</th>\n",
              "      <td>4eb1365e-0a68-4ef0-9403-c81ca773970a</td>\n",
              "      <td>exposed</td>\n",
              "      <td>2020-07-05</td>\n",
              "      <td>4</td>\n",
              "      <td>iPhone</td>\n",
              "      <td>5</td>\n",
              "      <td>Chrome Mobile iOS</td>\n",
              "      <td>0</td>\n",
              "      <td>0</td>\n",
              "    </tr>\n",
              "    <tr>\n",
              "      <th>2313</th>\n",
              "      <td>9485c7c7-137a-4389-b472-3903cebb8511</td>\n",
              "      <td>exposed</td>\n",
              "      <td>2020-07-10</td>\n",
              "      <td>16</td>\n",
              "      <td>Generic Smartphone</td>\n",
              "      <td>6</td>\n",
              "      <td>Chrome Mobile</td>\n",
              "      <td>0</td>\n",
              "      <td>0</td>\n",
              "    </tr>\n",
              "    <tr>\n",
              "      <th>4</th>\n",
              "      <td>006b9c6e-5f5d-4385-a811-ff20a24b30ac</td>\n",
              "      <td>exposed</td>\n",
              "      <td>2020-07-06</td>\n",
              "      <td>8</td>\n",
              "      <td>Samsung SM-G973F</td>\n",
              "      <td>6</td>\n",
              "      <td>Chrome Mobile WebView</td>\n",
              "      <td>0</td>\n",
              "      <td>0</td>\n",
              "    </tr>\n",
              "  </tbody>\n",
              "</table>\n",
              "</div>"
            ],
            "text/plain": [
              "                                auction_id experiment  ... yes  no\n",
              "3753  efdd9369-09d1-496c-8fb1-061bb366c34a    exposed  ...   0   0\n",
              "335   13e225de-5cb9-4d9b-96fb-aa137c643ce3    control  ...   1   0\n",
              "1869  7643d4e5-e32b-4eb1-813e-ea8d35dcaa9d    control  ...   0   0\n",
              "2857  b32ca27f-d327-469d-999e-bd85a589f224    control  ...   0   1\n",
              "1432  5aa77053-9c2e-4791-a096-5d1d831c4f6d    control  ...   0   0\n",
              "3619  e4b7b761-2b30-4b94-9d51-49643378d593    control  ...   0   0\n",
              "2139  8a89116b-a35f-40d0-b9c2-8fd9351df037    exposed  ...   0   0\n",
              "1191  4eb1365e-0a68-4ef0-9403-c81ca773970a    exposed  ...   0   0\n",
              "2313  9485c7c7-137a-4389-b472-3903cebb8511    exposed  ...   0   0\n",
              "4     006b9c6e-5f5d-4385-a811-ff20a24b30ac    exposed  ...   0   0\n",
              "\n",
              "[10 rows x 9 columns]"
            ]
          },
          "metadata": {
            "tags": []
          },
          "execution_count": 43
        }
      ]
    },
    {
      "cell_type": "code",
      "metadata": {
        "id": "AQC9fqoJ2hJ6"
      },
      "source": [
        "data_total1['experiment'] = pd.factorize(data_total1.experiment)[0]"
      ],
      "id": "AQC9fqoJ2hJ6",
      "execution_count": null,
      "outputs": []
    },
    {
      "cell_type": "code",
      "metadata": {
        "id": "O9kDI0802kpj"
      },
      "source": [
        "from sklearn import preprocessing \n",
        "  \n",
        "# label_encoder object knows how to understand word labels. \n",
        "label_encoder = preprocessing.LabelEncoder() \n",
        "  \n",
        "# Encode labels in column 'species'. \n",
        "data_total1['device_make']= label_encoder.fit_transform(data_total1['device_make'])"
      ],
      "id": "O9kDI0802kpj",
      "execution_count": null,
      "outputs": []
    },
    {
      "cell_type": "code",
      "metadata": {
        "id": "CrEyCXh_2xH-"
      },
      "source": [
        "# Encode labels in column 'species'. \n",
        "data_total1['browser']= label_encoder.fit_transform(data_total1['browser'])"
      ],
      "id": "CrEyCXh_2xH-",
      "execution_count": null,
      "outputs": []
    },
    {
      "cell_type": "code",
      "metadata": {
        "id": "-IpJD1MZ2xvo"
      },
      "source": [
        "\n",
        "# Encode labels in column 'species'. \n",
        "data_total1['date']= label_encoder.fit_transform(data_total1['date'])"
      ],
      "id": "-IpJD1MZ2xvo",
      "execution_count": null,
      "outputs": []
    },
    {
      "cell_type": "code",
      "metadata": {
        "colab": {
          "base_uri": "https://localhost:8080/",
          "height": 417
        },
        "id": "7Dg-CfVH25ps",
        "outputId": "1be5b398-ded6-46b6-8063-98a3ff5f98fa"
      },
      "source": [
        "data_total1"
      ],
      "id": "7Dg-CfVH25ps",
      "execution_count": null,
      "outputs": [
        {
          "output_type": "execute_result",
          "data": {
            "text/html": [
              "<div>\n",
              "<style scoped>\n",
              "    .dataframe tbody tr th:only-of-type {\n",
              "        vertical-align: middle;\n",
              "    }\n",
              "\n",
              "    .dataframe tbody tr th {\n",
              "        vertical-align: top;\n",
              "    }\n",
              "\n",
              "    .dataframe thead th {\n",
              "        text-align: right;\n",
              "    }\n",
              "</style>\n",
              "<table border=\"1\" class=\"dataframe\">\n",
              "  <thead>\n",
              "    <tr style=\"text-align: right;\">\n",
              "      <th></th>\n",
              "      <th>auction_id</th>\n",
              "      <th>experiment</th>\n",
              "      <th>date</th>\n",
              "      <th>hour</th>\n",
              "      <th>device_make</th>\n",
              "      <th>platform_os</th>\n",
              "      <th>browser</th>\n",
              "      <th>yes</th>\n",
              "      <th>no</th>\n",
              "    </tr>\n",
              "  </thead>\n",
              "  <tbody>\n",
              "    <tr>\n",
              "      <th>0</th>\n",
              "      <td>00187412-2932-4542-a8ef-3633901c98d9</td>\n",
              "      <td>0</td>\n",
              "      <td>0</td>\n",
              "      <td>15</td>\n",
              "      <td>137</td>\n",
              "      <td>6</td>\n",
              "      <td>6</td>\n",
              "      <td>0</td>\n",
              "      <td>0</td>\n",
              "    </tr>\n",
              "    <tr>\n",
              "      <th>1</th>\n",
              "      <td>001a7785-d3fe-4e11-a344-c8735acacc2c</td>\n",
              "      <td>0</td>\n",
              "      <td>0</td>\n",
              "      <td>15</td>\n",
              "      <td>46</td>\n",
              "      <td>6</td>\n",
              "      <td>2</td>\n",
              "      <td>0</td>\n",
              "      <td>0</td>\n",
              "    </tr>\n",
              "    <tr>\n",
              "      <th>2</th>\n",
              "      <td>0027ce48-d3c6-4935-bb12-dfb5d5627857</td>\n",
              "      <td>0</td>\n",
              "      <td>0</td>\n",
              "      <td>15</td>\n",
              "      <td>177</td>\n",
              "      <td>6</td>\n",
              "      <td>6</td>\n",
              "      <td>0</td>\n",
              "      <td>0</td>\n",
              "    </tr>\n",
              "    <tr>\n",
              "      <th>3</th>\n",
              "      <td>002e308b-1a07-49d6-8560-0fbcdcd71e4b</td>\n",
              "      <td>0</td>\n",
              "      <td>0</td>\n",
              "      <td>15</td>\n",
              "      <td>46</td>\n",
              "      <td>6</td>\n",
              "      <td>2</td>\n",
              "      <td>0</td>\n",
              "      <td>0</td>\n",
              "    </tr>\n",
              "    <tr>\n",
              "      <th>4</th>\n",
              "      <td>00393fb9-ca32-40c0-bfcb-1bd83f319820</td>\n",
              "      <td>0</td>\n",
              "      <td>6</td>\n",
              "      <td>5</td>\n",
              "      <td>184</td>\n",
              "      <td>6</td>\n",
              "      <td>6</td>\n",
              "      <td>0</td>\n",
              "      <td>0</td>\n",
              "    </tr>\n",
              "    <tr>\n",
              "      <th>...</th>\n",
              "      <td>...</td>\n",
              "      <td>...</td>\n",
              "      <td>...</td>\n",
              "      <td>...</td>\n",
              "      <td>...</td>\n",
              "      <td>...</td>\n",
              "      <td>...</td>\n",
              "      <td>...</td>\n",
              "      <td>...</td>\n",
              "    </tr>\n",
              "    <tr>\n",
              "      <th>4001</th>\n",
              "      <td>ffbc02cb-628a-4de5-87fc-5d76b7d796e5</td>\n",
              "      <td>1</td>\n",
              "      <td>6</td>\n",
              "      <td>17</td>\n",
              "      <td>46</td>\n",
              "      <td>6</td>\n",
              "      <td>2</td>\n",
              "      <td>0</td>\n",
              "      <td>0</td>\n",
              "    </tr>\n",
              "    <tr>\n",
              "      <th>4002</th>\n",
              "      <td>ffc594ef-756c-4d24-a310-0d8eb4e11eb7</td>\n",
              "      <td>1</td>\n",
              "      <td>2</td>\n",
              "      <td>1</td>\n",
              "      <td>171</td>\n",
              "      <td>6</td>\n",
              "      <td>3</td>\n",
              "      <td>0</td>\n",
              "      <td>0</td>\n",
              "    </tr>\n",
              "    <tr>\n",
              "      <th>4003</th>\n",
              "      <td>ffdfdc09-48c7-4bfb-80f8-ec1eb633602b</td>\n",
              "      <td>1</td>\n",
              "      <td>0</td>\n",
              "      <td>4</td>\n",
              "      <td>46</td>\n",
              "      <td>6</td>\n",
              "      <td>2</td>\n",
              "      <td>0</td>\n",
              "      <td>1</td>\n",
              "    </tr>\n",
              "    <tr>\n",
              "      <th>4004</th>\n",
              "      <td>ffea24ec-cec1-43fb-b1d1-8f93828c2be2</td>\n",
              "      <td>1</td>\n",
              "      <td>2</td>\n",
              "      <td>7</td>\n",
              "      <td>46</td>\n",
              "      <td>6</td>\n",
              "      <td>2</td>\n",
              "      <td>0</td>\n",
              "      <td>0</td>\n",
              "    </tr>\n",
              "    <tr>\n",
              "      <th>4005</th>\n",
              "      <td>ffeeed62-3f7c-4a6e-8ba7-95d303d40969</td>\n",
              "      <td>1</td>\n",
              "      <td>2</td>\n",
              "      <td>15</td>\n",
              "      <td>130</td>\n",
              "      <td>6</td>\n",
              "      <td>14</td>\n",
              "      <td>0</td>\n",
              "      <td>0</td>\n",
              "    </tr>\n",
              "  </tbody>\n",
              "</table>\n",
              "<p>8077 rows × 9 columns</p>\n",
              "</div>"
            ],
            "text/plain": [
              "                                auction_id  experiment  date  ...  browser  yes  no\n",
              "0     00187412-2932-4542-a8ef-3633901c98d9           0     0  ...        6    0   0\n",
              "1     001a7785-d3fe-4e11-a344-c8735acacc2c           0     0  ...        2    0   0\n",
              "2     0027ce48-d3c6-4935-bb12-dfb5d5627857           0     0  ...        6    0   0\n",
              "3     002e308b-1a07-49d6-8560-0fbcdcd71e4b           0     0  ...        2    0   0\n",
              "4     00393fb9-ca32-40c0-bfcb-1bd83f319820           0     6  ...        6    0   0\n",
              "...                                    ...         ...   ...  ...      ...  ...  ..\n",
              "4001  ffbc02cb-628a-4de5-87fc-5d76b7d796e5           1     6  ...        2    0   0\n",
              "4002  ffc594ef-756c-4d24-a310-0d8eb4e11eb7           1     2  ...        3    0   0\n",
              "4003  ffdfdc09-48c7-4bfb-80f8-ec1eb633602b           1     0  ...        2    0   1\n",
              "4004  ffea24ec-cec1-43fb-b1d1-8f93828c2be2           1     2  ...        2    0   0\n",
              "4005  ffeeed62-3f7c-4a6e-8ba7-95d303d40969           1     2  ...       14    0   0\n",
              "\n",
              "[8077 rows x 9 columns]"
            ]
          },
          "metadata": {
            "tags": []
          },
          "execution_count": 48
        }
      ]
    },
    {
      "cell_type": "code",
      "metadata": {
        "id": "LyuuGdiJ26cr"
      },
      "source": [
        "# Getting the features we need\n",
        "data=data_total1[['hour','platform_os','date','browser','experiment','yes','no']]"
      ],
      "id": "LyuuGdiJ26cr",
      "execution_count": null,
      "outputs": []
    },
    {
      "cell_type": "code",
      "metadata": {
        "id": "aYIoPXYy3H3y"
      },
      "source": [
        "# Splitting the data according to features and the target feature\n",
        "X1 = data.drop('yes', axis=1) #prediction features\n",
        "y1 = data['yes'] #target feature"
      ],
      "id": "aYIoPXYy3H3y",
      "execution_count": null,
      "outputs": []
    },
    {
      "cell_type": "code",
      "metadata": {
        "id": "n01sBg2F_5Up"
      },
      "source": [
        ""
      ],
      "id": "n01sBg2F_5Up",
      "execution_count": null,
      "outputs": []
    }
  ]
}